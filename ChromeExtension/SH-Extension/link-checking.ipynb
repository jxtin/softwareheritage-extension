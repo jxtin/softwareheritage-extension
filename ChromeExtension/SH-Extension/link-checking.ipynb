{
 "cells": [
  {
   "cell_type": "code",
   "execution_count": 3,
   "id": "17fed33d",
   "metadata": {},
   "outputs": [],
   "source": [
    "import json"
   ]
  },
  {
   "cell_type": "code",
   "execution_count": 4,
   "id": "672eee17",
   "metadata": {},
   "outputs": [],
   "source": [
    "def load_json(filename):\n",
    "    with open(filename, \"r\") as json_file:\n",
    "        return json.load(json_file)\n",
    "\n",
    "\n",
    "def dump_json(filename, data):\n",
    "    with open(filename, \"w\") as json_file:\n",
    "        json.dump(data, json_file)"
   ]
  },
  {
   "cell_type": "code",
   "execution_count": 5,
   "id": "86db9604",
   "metadata": {},
   "outputs": [],
   "source": [
    "listers=load_json(\"listers.json\")"
   ]
  },
  {
   "cell_type": "code",
   "execution_count": 6,
   "id": "0d6d70c4",
   "metadata": {},
   "outputs": [
    {
     "data": {
      "text/plain": [
       "['bitbucket',\n",
       " 'git.joeyh.name',\n",
       " 'gnu-savannah',\n",
       " 'git.gnu.org.ua',\n",
       " 'git.eclipse.org',\n",
       " 'gitweb.torproject.org',\n",
       " 'hdiff.luite.com',\n",
       " 'git.alpinelinux.org',\n",
       " 'git.openembedded.org',\n",
       " 'git.yoctoproject.org',\n",
       " 'git.zx2c4.com',\n",
       " 'git.kernel.org',\n",
       " 'fedorapeople.org',\n",
       " 'git.baserock.org',\n",
       " 'code.qt.io',\n",
       " 'cran',\n",
       " 'Ubuntu-Legacy',\n",
       " 'Ubuntu',\n",
       " 'Debian-Security',\n",
       " 'Debian',\n",
       " 'codeberg.org',\n",
       " 'git.fsfe.org',\n",
       " 'github',\n",
       " 'gitlab.com',\n",
       " 'gitlab.lip6.fr',\n",
       " '0xacab.org',\n",
       " 'gitlab.inria.fr',\n",
       " 'gitlab.freedesktop.org',\n",
       " 'gitlab.common-lisp.net',\n",
       " 'gitlab.ow2.org',\n",
       " 'gitlab.gnome.org',\n",
       " 'gite.lirmm.fr',\n",
       " 'framagit.org',\n",
       " 'guix',\n",
       " 'GNU',\n",
       " 'foss.heptapod.net',\n",
       " 'foss.heptapod.net',\n",
       " 'heptapod.host',\n",
       " 'heptapod.host',\n",
       " 'forge.extranet.logilab.fr',\n",
       " 'forge.extranet.logilab.fr',\n",
       " 'launchpad',\n",
       " 'nixos',\n",
       " 'npm',\n",
       " 'opam.ocaml.org',\n",
       " 'coq.inria.fr',\n",
       " 'pypi',\n",
       " 'main',\n",
       " 'main',\n",
       " 'main',\n",
       " 'gitorious',\n",
       " 'googlecode',\n",
       " 'googlecode',\n",
       " 'googlecode',\n",
       " 'bitbucket',\n",
       " 'elife',\n",
       " 'hal',\n",
       " 'ipol']"
      ]
     },
     "execution_count": 6,
     "metadata": {},
     "output_type": "execute_result"
    }
   ],
   "source": [
    "listers"
   ]
  },
  {
   "cell_type": "code",
   "execution_count": 7,
   "id": "8341ec78",
   "metadata": {},
   "outputs": [],
   "source": [
    "links=[]"
   ]
  },
  {
   "cell_type": "code",
   "execution_count": 10,
   "id": "2a809de3",
   "metadata": {},
   "outputs": [],
   "source": [
    "for item in listers:\n",
    "    if '.' in item:\n",
    "        links.append(item)"
   ]
  },
  {
   "cell_type": "code",
   "execution_count": 11,
   "id": "6c390858",
   "metadata": {},
   "outputs": [
    {
     "data": {
      "text/plain": [
       "['git.joeyh.name',\n",
       " 'git.gnu.org.ua',\n",
       " 'git.eclipse.org',\n",
       " 'gitweb.torproject.org',\n",
       " 'hdiff.luite.com',\n",
       " 'git.alpinelinux.org',\n",
       " 'git.openembedded.org',\n",
       " 'git.yoctoproject.org',\n",
       " 'git.zx2c4.com',\n",
       " 'git.kernel.org',\n",
       " 'fedorapeople.org',\n",
       " 'git.baserock.org',\n",
       " 'code.qt.io',\n",
       " 'codeberg.org',\n",
       " 'git.fsfe.org',\n",
       " 'gitlab.com',\n",
       " 'gitlab.lip6.fr',\n",
       " '0xacab.org',\n",
       " 'gitlab.inria.fr',\n",
       " 'gitlab.freedesktop.org',\n",
       " 'gitlab.common-lisp.net',\n",
       " 'gitlab.ow2.org',\n",
       " 'gitlab.gnome.org',\n",
       " 'gite.lirmm.fr',\n",
       " 'framagit.org',\n",
       " 'foss.heptapod.net',\n",
       " 'foss.heptapod.net',\n",
       " 'heptapod.host',\n",
       " 'heptapod.host',\n",
       " 'forge.extranet.logilab.fr',\n",
       " 'forge.extranet.logilab.fr',\n",
       " 'opam.ocaml.org',\n",
       " 'coq.inria.fr']"
      ]
     },
     "execution_count": 11,
     "metadata": {},
     "output_type": "execute_result"
    }
   ],
   "source": [
    "links"
   ]
  },
  {
   "cell_type": "code",
   "execution_count": 12,
   "id": "9095789f",
   "metadata": {},
   "outputs": [],
   "source": [
    "not_links=[]"
   ]
  },
  {
   "cell_type": "code",
   "execution_count": 13,
   "id": "32afbd0a",
   "metadata": {},
   "outputs": [
    {
     "data": {
      "text/plain": [
       "['bitbucket',\n",
       " 'gnu-savannah',\n",
       " 'cran',\n",
       " 'Ubuntu-Legacy',\n",
       " 'Ubuntu',\n",
       " 'Debian-Security',\n",
       " 'Debian',\n",
       " 'github',\n",
       " 'guix',\n",
       " 'GNU',\n",
       " 'launchpad',\n",
       " 'nixos',\n",
       " 'npm',\n",
       " 'pypi',\n",
       " 'main',\n",
       " 'main',\n",
       " 'main',\n",
       " 'gitorious',\n",
       " 'googlecode',\n",
       " 'googlecode',\n",
       " 'googlecode',\n",
       " 'bitbucket',\n",
       " 'elife',\n",
       " 'hal',\n",
       " 'ipol']"
      ]
     },
     "execution_count": 13,
     "metadata": {},
     "output_type": "execute_result"
    }
   ],
   "source": [
    "for item in listers:\n",
    "    if item not in links:\n",
    "        not_links.append(item)\n",
    "not_links"
   ]
  },
  {
   "cell_type": "code",
   "execution_count": 14,
   "id": "9ce8780c",
   "metadata": {},
   "outputs": [],
   "source": [
    "# for bitbucket\n",
    "links.append(\"bitbucket.org\")"
   ]
  },
  {
   "cell_type": "code",
   "execution_count": 15,
   "id": "f7e3bb9d",
   "metadata": {},
   "outputs": [],
   "source": [
    "# for gnu-savannah\n",
    "links.append(\"git.savannah.gnu.org\")"
   ]
  },
  {
   "cell_type": "code",
   "execution_count": 16,
   "id": "1af05137",
   "metadata": {},
   "outputs": [],
   "source": [
    "# for cran\n",
    "links.append(\"cran.r-project.org\")"
   ]
  },
  {
   "cell_type": "code",
   "execution_count": 18,
   "id": "5544ccf2",
   "metadata": {},
   "outputs": [],
   "source": [
    "# for cran\n",
    "links.append(\"github.com\")"
   ]
  },
  {
   "cell_type": "code",
   "execution_count": 19,
   "id": "2531b493",
   "metadata": {},
   "outputs": [],
   "source": [
    "# to save for now\n",
    "\n",
    "dump_json(\"links.json\",links)"
   ]
  },
  {
   "cell_type": "code",
   "execution_count": null,
   "id": "ae0083c2",
   "metadata": {},
   "outputs": [],
   "source": []
  }
 ],
 "metadata": {
  "kernelspec": {
   "display_name": "Python 3 (ipykernel)",
   "language": "python",
   "name": "python3"
  },
  "language_info": {
   "codemirror_mode": {
    "name": "ipython",
    "version": 3
   },
   "file_extension": ".py",
   "mimetype": "text/x-python",
   "name": "python",
   "nbconvert_exporter": "python",
   "pygments_lexer": "ipython3",
   "version": "3.10.2"
  }
 },
 "nbformat": 4,
 "nbformat_minor": 5
}
